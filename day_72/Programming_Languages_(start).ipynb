{
  "nbformat": 4,
  "nbformat_minor": 2,
  "metadata": {
    "kernelspec": {
      "name": "python3",
      "display_name": "Python 3.9.7 64-bit (windows store)"
    },
    "language_info": {
      "codemirror_mode": {
        "name": "ipython",
        "version": 3
      },
      "file_extension": ".py",
      "mimetype": "text/x-python",
      "name": "python",
      "nbconvert_exporter": "python",
      "pygments_lexer": "ipython3",
      "version": "3.9.7"
    },
    "colab": {
      "name": "Programming Languages (start).ipynb",
      "provenance": []
    },
    "interpreter": {
      "hash": "21d90c47459f8888f3817ffa6697c127b8fbc322431165dae9d541fc6ce75a21"
    }
  },
  "cells": [
    {
      "cell_type": "markdown",
      "source": [
        "## Get the Data\n",
        "\n",
        "Either use the provided .csv file or (optionally) get fresh (the freshest?) data from running an SQL query on StackExchange: \n",
        "\n",
        "Follow this link to run the query from [StackExchange](https://data.stackexchange.com/stackoverflow/query/675441/popular-programming-languages-per-over-time-eversql-com) to get your own .csv file\n",
        "\n",
        "<code>\n",
        "select dateadd(month, datediff(month, 0, q.CreationDate), 0) m, TagName, count(*)\n",
        "from PostTags pt\n",
        "join Posts q on q.Id=pt.PostId\n",
        "join Tags t on t.Id=pt.TagId\n",
        "where TagName in ('java','c','c++','python','c#','javascript','assembly','php','perl','ruby','visual basic','swift','r','object-c','scratch','go','swift','delphi')\n",
        "and q.CreationDate < dateadd(month, datediff(month, 0, getdate()), 0)\n",
        "group by dateadd(month, datediff(month, 0, q.CreationDate), 0), TagName\n",
        "order by dateadd(month, datediff(month, 0, q.CreationDate), 0)\n",
        "</code>"
      ],
      "metadata": {
        "id": "MAAKxOwsGxuj",
        "colab_type": "text"
      }
    },
    {
      "cell_type": "markdown",
      "source": [
        "## Import Statements"
      ],
      "metadata": {
        "id": "u5KcSXt1Gxuk",
        "colab_type": "text"
      }
    },
    {
      "cell_type": "code",
      "execution_count": 1,
      "source": [
        "import pandas as pd\r\n",
        "import matplotlib.pyplot as plt"
      ],
      "outputs": [],
      "metadata": {
        "id": "Ru4Wq-pXGxuk",
        "colab_type": "code",
        "colab": {}
      }
    },
    {
      "cell_type": "markdown",
      "source": [
        "## Data Exploration"
      ],
      "metadata": {
        "id": "xEP6beuEGxun",
        "colab_type": "text"
      }
    },
    {
      "cell_type": "markdown",
      "source": [
        "**Challenge**: Read the .csv file and store it in a Pandas dataframe"
      ],
      "metadata": {
        "id": "w3Q75B4CGxun",
        "colab_type": "text"
      }
    },
    {
      "cell_type": "code",
      "execution_count": 2,
      "source": [
        "df = pd.read_csv(r\"C:\\Users\\2kjph5\\OneDrive - Merit Automotive Electronics Systems, S.L\\03-Miscellaneous\\Studies\\Learning\\python\\100_days_of_code_python_new\\day_72\\QueryResults_new.csv\", names=['DATE', 'TAG', 'POSTS'], header = 0)"
      ],
      "outputs": [],
      "metadata": {
        "id": "Bm7hQtEGIiri",
        "colab_type": "code",
        "colab": {}
      }
    },
    {
      "cell_type": "markdown",
      "source": [
        "**Challenge**: Examine the first 5 rows and the last 5 rows of the of the dataframe"
      ],
      "metadata": {
        "id": "x2WnDM75Gxup",
        "colab_type": "text"
      }
    },
    {
      "cell_type": "code",
      "execution_count": 3,
      "source": [
        "df.head()"
      ],
      "outputs": [
        {
          "output_type": "execute_result",
          "data": {
            "text/html": [
              "<div>\n",
              "<style scoped>\n",
              "    .dataframe tbody tr th:only-of-type {\n",
              "        vertical-align: middle;\n",
              "    }\n",
              "\n",
              "    .dataframe tbody tr th {\n",
              "        vertical-align: top;\n",
              "    }\n",
              "\n",
              "    .dataframe thead th {\n",
              "        text-align: right;\n",
              "    }\n",
              "</style>\n",
              "<table border=\"1\" class=\"dataframe\">\n",
              "  <thead>\n",
              "    <tr style=\"text-align: right;\">\n",
              "      <th></th>\n",
              "      <th>DATE</th>\n",
              "      <th>TAG</th>\n",
              "      <th>POSTS</th>\n",
              "    </tr>\n",
              "  </thead>\n",
              "  <tbody>\n",
              "    <tr>\n",
              "      <th>0</th>\n",
              "      <td>2008-07-01 00:00:00</td>\n",
              "      <td>c#</td>\n",
              "      <td>3</td>\n",
              "    </tr>\n",
              "    <tr>\n",
              "      <th>1</th>\n",
              "      <td>2008-08-01 00:00:00</td>\n",
              "      <td>assembly</td>\n",
              "      <td>8</td>\n",
              "    </tr>\n",
              "    <tr>\n",
              "      <th>2</th>\n",
              "      <td>2008-08-01 00:00:00</td>\n",
              "      <td>javascript</td>\n",
              "      <td>163</td>\n",
              "    </tr>\n",
              "    <tr>\n",
              "      <th>3</th>\n",
              "      <td>2008-08-01 00:00:00</td>\n",
              "      <td>c</td>\n",
              "      <td>84</td>\n",
              "    </tr>\n",
              "    <tr>\n",
              "      <th>4</th>\n",
              "      <td>2008-08-01 00:00:00</td>\n",
              "      <td>python</td>\n",
              "      <td>124</td>\n",
              "    </tr>\n",
              "  </tbody>\n",
              "</table>\n",
              "</div>"
            ],
            "text/plain": [
              "                  DATE         TAG  POSTS\n",
              "0  2008-07-01 00:00:00          c#      3\n",
              "1  2008-08-01 00:00:00    assembly      8\n",
              "2  2008-08-01 00:00:00  javascript    163\n",
              "3  2008-08-01 00:00:00           c     84\n",
              "4  2008-08-01 00:00:00      python    124"
            ]
          },
          "metadata": {},
          "execution_count": 3
        }
      ],
      "metadata": {
        "id": "50oqpUxVIiJf",
        "colab_type": "code",
        "colab": {}
      }
    },
    {
      "cell_type": "markdown",
      "source": [
        "**Challenge:** Check how many rows and how many columns there are. \n",
        "What are the dimensions of the dataframe?"
      ],
      "metadata": {
        "id": "0o9hvVgyGxus",
        "colab_type": "text"
      }
    },
    {
      "cell_type": "code",
      "execution_count": 4,
      "source": [
        "df.shape"
      ],
      "outputs": [
        {
          "output_type": "execute_result",
          "data": {
            "text/plain": [
              "(2174, 3)"
            ]
          },
          "metadata": {},
          "execution_count": 4
        }
      ],
      "metadata": {
        "id": "ZUidjCPFIho8",
        "colab_type": "code",
        "colab": {}
      }
    },
    {
      "cell_type": "markdown",
      "source": [
        "**Challenge**: Count the number of entries in each column of the dataframe"
      ],
      "metadata": {
        "id": "ybZkNLmxGxuu",
        "colab_type": "text"
      }
    },
    {
      "cell_type": "code",
      "execution_count": 5,
      "source": [
        "df.count()"
      ],
      "outputs": [
        {
          "output_type": "execute_result",
          "data": {
            "text/plain": [
              "DATE     2174\n",
              "TAG      2174\n",
              "POSTS    2174\n",
              "dtype: int64"
            ]
          },
          "metadata": {},
          "execution_count": 5
        }
      ],
      "metadata": {
        "id": "Sc1dmmOoIg2g",
        "colab_type": "code",
        "colab": {}
      }
    },
    {
      "cell_type": "markdown",
      "source": [
        "**Challenge**: Calculate the total number of post per language.\n",
        "Which Programming language has had the highest total number of posts of all time?"
      ],
      "metadata": {
        "id": "hlnfFsscGxuw",
        "colab_type": "text"
      }
    },
    {
      "cell_type": "code",
      "execution_count": 6,
      "source": [
        "df.groupby('TAG').sum()"
      ],
      "outputs": [
        {
          "output_type": "execute_result",
          "data": {
            "text/html": [
              "<div>\n",
              "<style scoped>\n",
              "    .dataframe tbody tr th:only-of-type {\n",
              "        vertical-align: middle;\n",
              "    }\n",
              "\n",
              "    .dataframe tbody tr th {\n",
              "        vertical-align: top;\n",
              "    }\n",
              "\n",
              "    .dataframe thead th {\n",
              "        text-align: right;\n",
              "    }\n",
              "</style>\n",
              "<table border=\"1\" class=\"dataframe\">\n",
              "  <thead>\n",
              "    <tr style=\"text-align: right;\">\n",
              "      <th></th>\n",
              "      <th>POSTS</th>\n",
              "    </tr>\n",
              "    <tr>\n",
              "      <th>TAG</th>\n",
              "      <th></th>\n",
              "    </tr>\n",
              "  </thead>\n",
              "  <tbody>\n",
              "    <tr>\n",
              "      <th>assembly</th>\n",
              "      <td>38400</td>\n",
              "    </tr>\n",
              "    <tr>\n",
              "      <th>c</th>\n",
              "      <td>363490</td>\n",
              "    </tr>\n",
              "    <tr>\n",
              "      <th>c#</th>\n",
              "      <td>1493711</td>\n",
              "    </tr>\n",
              "    <tr>\n",
              "      <th>c++</th>\n",
              "      <td>734808</td>\n",
              "    </tr>\n",
              "    <tr>\n",
              "      <th>delphi</th>\n",
              "      <td>48448</td>\n",
              "    </tr>\n",
              "    <tr>\n",
              "      <th>go</th>\n",
              "      <td>55678</td>\n",
              "    </tr>\n",
              "    <tr>\n",
              "      <th>java</th>\n",
              "      <td>1793412</td>\n",
              "    </tr>\n",
              "    <tr>\n",
              "      <th>javascript</th>\n",
              "      <td>2260018</td>\n",
              "    </tr>\n",
              "    <tr>\n",
              "      <th>perl</th>\n",
              "      <td>65836</td>\n",
              "    </tr>\n",
              "    <tr>\n",
              "      <th>php</th>\n",
              "      <td>1411232</td>\n",
              "    </tr>\n",
              "    <tr>\n",
              "      <th>python</th>\n",
              "      <td>1781590</td>\n",
              "    </tr>\n",
              "    <tr>\n",
              "      <th>r</th>\n",
              "      <td>416208</td>\n",
              "    </tr>\n",
              "    <tr>\n",
              "      <th>ruby</th>\n",
              "      <td>220644</td>\n",
              "    </tr>\n",
              "    <tr>\n",
              "      <th>swift</th>\n",
              "      <td>300970</td>\n",
              "    </tr>\n",
              "  </tbody>\n",
              "</table>\n",
              "</div>"
            ],
            "text/plain": [
              "              POSTS\n",
              "TAG                \n",
              "assembly      38400\n",
              "c            363490\n",
              "c#          1493711\n",
              "c++          734808\n",
              "delphi        48448\n",
              "go            55678\n",
              "java        1793412\n",
              "javascript  2260018\n",
              "perl          65836\n",
              "php         1411232\n",
              "python      1781590\n",
              "r            416208\n",
              "ruby         220644\n",
              "swift        300970"
            ]
          },
          "metadata": {},
          "execution_count": 6
        }
      ],
      "metadata": {
        "id": "9-NYFONcIc1X",
        "colab_type": "code",
        "colab": {}
      }
    },
    {
      "cell_type": "markdown",
      "source": [
        "Some languages are older (e.g., C) and other languages are newer (e.g., Swift). The dataset starts in September 2008.\n",
        "\n",
        "**Challenge**: How many months of data exist per language? Which language had the fewest months with an entry? \n"
      ],
      "metadata": {
        "id": "iVCesB49Gxuz",
        "colab_type": "text"
      }
    },
    {
      "cell_type": "code",
      "execution_count": 7,
      "source": [
        "df.groupby('TAG').count()"
      ],
      "outputs": [
        {
          "output_type": "execute_result",
          "data": {
            "text/html": [
              "<div>\n",
              "<style scoped>\n",
              "    .dataframe tbody tr th:only-of-type {\n",
              "        vertical-align: middle;\n",
              "    }\n",
              "\n",
              "    .dataframe tbody tr th {\n",
              "        vertical-align: top;\n",
              "    }\n",
              "\n",
              "    .dataframe thead th {\n",
              "        text-align: right;\n",
              "    }\n",
              "</style>\n",
              "<table border=\"1\" class=\"dataframe\">\n",
              "  <thead>\n",
              "    <tr style=\"text-align: right;\">\n",
              "      <th></th>\n",
              "      <th>DATE</th>\n",
              "      <th>POSTS</th>\n",
              "    </tr>\n",
              "    <tr>\n",
              "      <th>TAG</th>\n",
              "      <th></th>\n",
              "      <th></th>\n",
              "    </tr>\n",
              "  </thead>\n",
              "  <tbody>\n",
              "    <tr>\n",
              "      <th>assembly</th>\n",
              "      <td>157</td>\n",
              "      <td>157</td>\n",
              "    </tr>\n",
              "    <tr>\n",
              "      <th>c</th>\n",
              "      <td>157</td>\n",
              "      <td>157</td>\n",
              "    </tr>\n",
              "    <tr>\n",
              "      <th>c#</th>\n",
              "      <td>158</td>\n",
              "      <td>158</td>\n",
              "    </tr>\n",
              "    <tr>\n",
              "      <th>c++</th>\n",
              "      <td>157</td>\n",
              "      <td>157</td>\n",
              "    </tr>\n",
              "    <tr>\n",
              "      <th>delphi</th>\n",
              "      <td>157</td>\n",
              "      <td>157</td>\n",
              "    </tr>\n",
              "    <tr>\n",
              "      <th>go</th>\n",
              "      <td>142</td>\n",
              "      <td>142</td>\n",
              "    </tr>\n",
              "    <tr>\n",
              "      <th>java</th>\n",
              "      <td>157</td>\n",
              "      <td>157</td>\n",
              "    </tr>\n",
              "    <tr>\n",
              "      <th>javascript</th>\n",
              "      <td>157</td>\n",
              "      <td>157</td>\n",
              "    </tr>\n",
              "    <tr>\n",
              "      <th>perl</th>\n",
              "      <td>157</td>\n",
              "      <td>157</td>\n",
              "    </tr>\n",
              "    <tr>\n",
              "      <th>php</th>\n",
              "      <td>157</td>\n",
              "      <td>157</td>\n",
              "    </tr>\n",
              "    <tr>\n",
              "      <th>python</th>\n",
              "      <td>157</td>\n",
              "      <td>157</td>\n",
              "    </tr>\n",
              "    <tr>\n",
              "      <th>r</th>\n",
              "      <td>155</td>\n",
              "      <td>155</td>\n",
              "    </tr>\n",
              "    <tr>\n",
              "      <th>ruby</th>\n",
              "      <td>157</td>\n",
              "      <td>157</td>\n",
              "    </tr>\n",
              "    <tr>\n",
              "      <th>swift</th>\n",
              "      <td>149</td>\n",
              "      <td>149</td>\n",
              "    </tr>\n",
              "  </tbody>\n",
              "</table>\n",
              "</div>"
            ],
            "text/plain": [
              "            DATE  POSTS\n",
              "TAG                    \n",
              "assembly     157    157\n",
              "c            157    157\n",
              "c#           158    158\n",
              "c++          157    157\n",
              "delphi       157    157\n",
              "go           142    142\n",
              "java         157    157\n",
              "javascript   157    157\n",
              "perl         157    157\n",
              "php          157    157\n",
              "python       157    157\n",
              "r            155    155\n",
              "ruby         157    157\n",
              "swift        149    149"
            ]
          },
          "metadata": {},
          "execution_count": 7
        }
      ],
      "metadata": {
        "id": "hDT4JlJNJfgQ",
        "colab_type": "code",
        "colab": {}
      }
    },
    {
      "cell_type": "markdown",
      "source": [
        "## Data Cleaning\n",
        "\n",
        "Let's fix the date format to make it more readable. We need to use Pandas to change format from a string of \"2008-07-01 00:00:00\" to a datetime object with the format of \"2008-07-01\""
      ],
      "metadata": {
        "id": "arguGp3ZGxu1",
        "colab_type": "text"
      }
    },
    {
      "cell_type": "code",
      "execution_count": 8,
      "source": [
        "df['DATE'][1]"
      ],
      "outputs": [
        {
          "output_type": "execute_result",
          "data": {
            "text/plain": [
              "'2008-08-01 00:00:00'"
            ]
          },
          "metadata": {},
          "execution_count": 8
        }
      ],
      "metadata": {
        "id": "5nh5a4UtGxu1",
        "colab_type": "code",
        "colab": {}
      }
    },
    {
      "cell_type": "code",
      "execution_count": 9,
      "source": [
        "df.DATE = pd.to_datetime(df.DATE)"
      ],
      "outputs": [],
      "metadata": {
        "id": "016H-Fy4Gxu3",
        "colab_type": "code",
        "colab": {}
      }
    },
    {
      "cell_type": "code",
      "execution_count": 10,
      "source": [
        "df.head()"
      ],
      "outputs": [
        {
          "output_type": "execute_result",
          "data": {
            "text/html": [
              "<div>\n",
              "<style scoped>\n",
              "    .dataframe tbody tr th:only-of-type {\n",
              "        vertical-align: middle;\n",
              "    }\n",
              "\n",
              "    .dataframe tbody tr th {\n",
              "        vertical-align: top;\n",
              "    }\n",
              "\n",
              "    .dataframe thead th {\n",
              "        text-align: right;\n",
              "    }\n",
              "</style>\n",
              "<table border=\"1\" class=\"dataframe\">\n",
              "  <thead>\n",
              "    <tr style=\"text-align: right;\">\n",
              "      <th></th>\n",
              "      <th>DATE</th>\n",
              "      <th>TAG</th>\n",
              "      <th>POSTS</th>\n",
              "    </tr>\n",
              "  </thead>\n",
              "  <tbody>\n",
              "    <tr>\n",
              "      <th>0</th>\n",
              "      <td>2008-07-01</td>\n",
              "      <td>c#</td>\n",
              "      <td>3</td>\n",
              "    </tr>\n",
              "    <tr>\n",
              "      <th>1</th>\n",
              "      <td>2008-08-01</td>\n",
              "      <td>assembly</td>\n",
              "      <td>8</td>\n",
              "    </tr>\n",
              "    <tr>\n",
              "      <th>2</th>\n",
              "      <td>2008-08-01</td>\n",
              "      <td>javascript</td>\n",
              "      <td>163</td>\n",
              "    </tr>\n",
              "    <tr>\n",
              "      <th>3</th>\n",
              "      <td>2008-08-01</td>\n",
              "      <td>c</td>\n",
              "      <td>84</td>\n",
              "    </tr>\n",
              "    <tr>\n",
              "      <th>4</th>\n",
              "      <td>2008-08-01</td>\n",
              "      <td>python</td>\n",
              "      <td>124</td>\n",
              "    </tr>\n",
              "  </tbody>\n",
              "</table>\n",
              "</div>"
            ],
            "text/plain": [
              "        DATE         TAG  POSTS\n",
              "0 2008-07-01          c#      3\n",
              "1 2008-08-01    assembly      8\n",
              "2 2008-08-01  javascript    163\n",
              "3 2008-08-01           c     84\n",
              "4 2008-08-01      python    124"
            ]
          },
          "metadata": {},
          "execution_count": 10
        }
      ],
      "metadata": {
        "id": "4EiSd7pdGxu5",
        "colab_type": "code",
        "colab": {}
      }
    },
    {
      "cell_type": "markdown",
      "source": [
        "## Data Manipulation\n",
        "\n"
      ],
      "metadata": {
        "id": "rWAV6tuzGxu6",
        "colab_type": "text"
      }
    },
    {
      "cell_type": "code",
      "execution_count": 11,
      "source": [
        "reshaped_df = df.pivot(index = 'DATE', columns= 'TAG', values = 'POSTS')\r\n",
        "reshaped_df"
      ],
      "outputs": [
        {
          "output_type": "execute_result",
          "data": {
            "text/html": [
              "<div>\n",
              "<style scoped>\n",
              "    .dataframe tbody tr th:only-of-type {\n",
              "        vertical-align: middle;\n",
              "    }\n",
              "\n",
              "    .dataframe tbody tr th {\n",
              "        vertical-align: top;\n",
              "    }\n",
              "\n",
              "    .dataframe thead th {\n",
              "        text-align: right;\n",
              "    }\n",
              "</style>\n",
              "<table border=\"1\" class=\"dataframe\">\n",
              "  <thead>\n",
              "    <tr style=\"text-align: right;\">\n",
              "      <th>TAG</th>\n",
              "      <th>assembly</th>\n",
              "      <th>c</th>\n",
              "      <th>c#</th>\n",
              "      <th>c++</th>\n",
              "      <th>delphi</th>\n",
              "      <th>go</th>\n",
              "      <th>java</th>\n",
              "      <th>javascript</th>\n",
              "      <th>perl</th>\n",
              "      <th>php</th>\n",
              "      <th>python</th>\n",
              "      <th>r</th>\n",
              "      <th>ruby</th>\n",
              "      <th>swift</th>\n",
              "    </tr>\n",
              "    <tr>\n",
              "      <th>DATE</th>\n",
              "      <th></th>\n",
              "      <th></th>\n",
              "      <th></th>\n",
              "      <th></th>\n",
              "      <th></th>\n",
              "      <th></th>\n",
              "      <th></th>\n",
              "      <th></th>\n",
              "      <th></th>\n",
              "      <th></th>\n",
              "      <th></th>\n",
              "      <th></th>\n",
              "      <th></th>\n",
              "      <th></th>\n",
              "    </tr>\n",
              "  </thead>\n",
              "  <tbody>\n",
              "    <tr>\n",
              "      <th>2008-07-01</th>\n",
              "      <td>NaN</td>\n",
              "      <td>NaN</td>\n",
              "      <td>3.0</td>\n",
              "      <td>NaN</td>\n",
              "      <td>NaN</td>\n",
              "      <td>NaN</td>\n",
              "      <td>NaN</td>\n",
              "      <td>NaN</td>\n",
              "      <td>NaN</td>\n",
              "      <td>NaN</td>\n",
              "      <td>NaN</td>\n",
              "      <td>NaN</td>\n",
              "      <td>NaN</td>\n",
              "      <td>NaN</td>\n",
              "    </tr>\n",
              "    <tr>\n",
              "      <th>2008-08-01</th>\n",
              "      <td>8.0</td>\n",
              "      <td>84.0</td>\n",
              "      <td>507.0</td>\n",
              "      <td>164.0</td>\n",
              "      <td>14.0</td>\n",
              "      <td>NaN</td>\n",
              "      <td>222.0</td>\n",
              "      <td>163.0</td>\n",
              "      <td>28.0</td>\n",
              "      <td>160.0</td>\n",
              "      <td>124.0</td>\n",
              "      <td>NaN</td>\n",
              "      <td>71.0</td>\n",
              "      <td>NaN</td>\n",
              "    </tr>\n",
              "    <tr>\n",
              "      <th>2008-09-01</th>\n",
              "      <td>28.0</td>\n",
              "      <td>320.0</td>\n",
              "      <td>1648.0</td>\n",
              "      <td>754.0</td>\n",
              "      <td>105.0</td>\n",
              "      <td>NaN</td>\n",
              "      <td>1136.0</td>\n",
              "      <td>639.0</td>\n",
              "      <td>131.0</td>\n",
              "      <td>480.0</td>\n",
              "      <td>540.0</td>\n",
              "      <td>6.0</td>\n",
              "      <td>289.0</td>\n",
              "      <td>NaN</td>\n",
              "    </tr>\n",
              "    <tr>\n",
              "      <th>2008-10-01</th>\n",
              "      <td>15.0</td>\n",
              "      <td>303.0</td>\n",
              "      <td>1989.0</td>\n",
              "      <td>810.0</td>\n",
              "      <td>112.0</td>\n",
              "      <td>NaN</td>\n",
              "      <td>1154.0</td>\n",
              "      <td>726.0</td>\n",
              "      <td>127.0</td>\n",
              "      <td>615.0</td>\n",
              "      <td>510.0</td>\n",
              "      <td>NaN</td>\n",
              "      <td>249.0</td>\n",
              "      <td>NaN</td>\n",
              "    </tr>\n",
              "    <tr>\n",
              "      <th>2008-11-01</th>\n",
              "      <td>17.0</td>\n",
              "      <td>259.0</td>\n",
              "      <td>1733.0</td>\n",
              "      <td>734.0</td>\n",
              "      <td>141.0</td>\n",
              "      <td>NaN</td>\n",
              "      <td>958.0</td>\n",
              "      <td>579.0</td>\n",
              "      <td>97.0</td>\n",
              "      <td>503.0</td>\n",
              "      <td>452.0</td>\n",
              "      <td>1.0</td>\n",
              "      <td>159.0</td>\n",
              "      <td>NaN</td>\n",
              "    </tr>\n",
              "    <tr>\n",
              "      <th>...</th>\n",
              "      <td>...</td>\n",
              "      <td>...</td>\n",
              "      <td>...</td>\n",
              "      <td>...</td>\n",
              "      <td>...</td>\n",
              "      <td>...</td>\n",
              "      <td>...</td>\n",
              "      <td>...</td>\n",
              "      <td>...</td>\n",
              "      <td>...</td>\n",
              "      <td>...</td>\n",
              "      <td>...</td>\n",
              "      <td>...</td>\n",
              "      <td>...</td>\n",
              "    </tr>\n",
              "    <tr>\n",
              "      <th>2021-04-01</th>\n",
              "      <td>344.0</td>\n",
              "      <td>2453.0</td>\n",
              "      <td>6770.0</td>\n",
              "      <td>4346.0</td>\n",
              "      <td>186.0</td>\n",
              "      <td>683.0</td>\n",
              "      <td>9526.0</td>\n",
              "      <td>18684.0</td>\n",
              "      <td>143.0</td>\n",
              "      <td>5120.0</td>\n",
              "      <td>26554.0</td>\n",
              "      <td>5615.0</td>\n",
              "      <td>605.0</td>\n",
              "      <td>2532.0</td>\n",
              "    </tr>\n",
              "    <tr>\n",
              "      <th>2021-05-01</th>\n",
              "      <td>326.0</td>\n",
              "      <td>2260.0</td>\n",
              "      <td>6573.0</td>\n",
              "      <td>4601.0</td>\n",
              "      <td>179.0</td>\n",
              "      <td>701.0</td>\n",
              "      <td>9717.0</td>\n",
              "      <td>18482.0</td>\n",
              "      <td>122.0</td>\n",
              "      <td>5096.0</td>\n",
              "      <td>26125.0</td>\n",
              "      <td>5403.0</td>\n",
              "      <td>446.0</td>\n",
              "      <td>2213.0</td>\n",
              "    </tr>\n",
              "    <tr>\n",
              "      <th>2021-06-01</th>\n",
              "      <td>281.0</td>\n",
              "      <td>2011.0</td>\n",
              "      <td>6451.0</td>\n",
              "      <td>4192.0</td>\n",
              "      <td>133.0</td>\n",
              "      <td>649.0</td>\n",
              "      <td>9259.0</td>\n",
              "      <td>17730.0</td>\n",
              "      <td>157.0</td>\n",
              "      <td>4900.0</td>\n",
              "      <td>24628.0</td>\n",
              "      <td>4956.0</td>\n",
              "      <td>470.0</td>\n",
              "      <td>2128.0</td>\n",
              "    </tr>\n",
              "    <tr>\n",
              "      <th>2021-07-01</th>\n",
              "      <td>200.0</td>\n",
              "      <td>1729.0</td>\n",
              "      <td>5974.0</td>\n",
              "      <td>3816.0</td>\n",
              "      <td>148.0</td>\n",
              "      <td>652.0</td>\n",
              "      <td>8408.0</td>\n",
              "      <td>17498.0</td>\n",
              "      <td>140.0</td>\n",
              "      <td>4665.0</td>\n",
              "      <td>24277.0</td>\n",
              "      <td>4687.0</td>\n",
              "      <td>501.0</td>\n",
              "      <td>2282.0</td>\n",
              "    </tr>\n",
              "    <tr>\n",
              "      <th>2021-08-01</th>\n",
              "      <td>177.0</td>\n",
              "      <td>1699.0</td>\n",
              "      <td>6117.0</td>\n",
              "      <td>3673.0</td>\n",
              "      <td>141.0</td>\n",
              "      <td>833.0</td>\n",
              "      <td>8351.0</td>\n",
              "      <td>17717.0</td>\n",
              "      <td>125.0</td>\n",
              "      <td>5007.0</td>\n",
              "      <td>24016.0</td>\n",
              "      <td>4664.0</td>\n",
              "      <td>514.0</td>\n",
              "      <td>2273.0</td>\n",
              "    </tr>\n",
              "  </tbody>\n",
              "</table>\n",
              "<p>158 rows × 14 columns</p>\n",
              "</div>"
            ],
            "text/plain": [
              "TAG         assembly       c      c#     c++  delphi     go    java  \\\n",
              "DATE                                                                  \n",
              "2008-07-01       NaN     NaN     3.0     NaN     NaN    NaN     NaN   \n",
              "2008-08-01       8.0    84.0   507.0   164.0    14.0    NaN   222.0   \n",
              "2008-09-01      28.0   320.0  1648.0   754.0   105.0    NaN  1136.0   \n",
              "2008-10-01      15.0   303.0  1989.0   810.0   112.0    NaN  1154.0   \n",
              "2008-11-01      17.0   259.0  1733.0   734.0   141.0    NaN   958.0   \n",
              "...              ...     ...     ...     ...     ...    ...     ...   \n",
              "2021-04-01     344.0  2453.0  6770.0  4346.0   186.0  683.0  9526.0   \n",
              "2021-05-01     326.0  2260.0  6573.0  4601.0   179.0  701.0  9717.0   \n",
              "2021-06-01     281.0  2011.0  6451.0  4192.0   133.0  649.0  9259.0   \n",
              "2021-07-01     200.0  1729.0  5974.0  3816.0   148.0  652.0  8408.0   \n",
              "2021-08-01     177.0  1699.0  6117.0  3673.0   141.0  833.0  8351.0   \n",
              "\n",
              "TAG         javascript   perl     php   python       r   ruby   swift  \n",
              "DATE                                                                   \n",
              "2008-07-01         NaN    NaN     NaN      NaN     NaN    NaN     NaN  \n",
              "2008-08-01       163.0   28.0   160.0    124.0     NaN   71.0     NaN  \n",
              "2008-09-01       639.0  131.0   480.0    540.0     6.0  289.0     NaN  \n",
              "2008-10-01       726.0  127.0   615.0    510.0     NaN  249.0     NaN  \n",
              "2008-11-01       579.0   97.0   503.0    452.0     1.0  159.0     NaN  \n",
              "...                ...    ...     ...      ...     ...    ...     ...  \n",
              "2021-04-01     18684.0  143.0  5120.0  26554.0  5615.0  605.0  2532.0  \n",
              "2021-05-01     18482.0  122.0  5096.0  26125.0  5403.0  446.0  2213.0  \n",
              "2021-06-01     17730.0  157.0  4900.0  24628.0  4956.0  470.0  2128.0  \n",
              "2021-07-01     17498.0  140.0  4665.0  24277.0  4687.0  501.0  2282.0  \n",
              "2021-08-01     17717.0  125.0  5007.0  24016.0  4664.0  514.0  2273.0  \n",
              "\n",
              "[158 rows x 14 columns]"
            ]
          },
          "metadata": {},
          "execution_count": 11
        }
      ],
      "metadata": {
        "id": "aHhbulJaGxu7",
        "colab_type": "code",
        "colab": {}
      }
    },
    {
      "cell_type": "markdown",
      "source": [
        "**Challenge**: What are the dimensions of our new dataframe? How many rows and columns does it have? Print out the column names and print out the first 5 rows of the dataframe."
      ],
      "metadata": {
        "id": "RWKcVIyFKwHM",
        "colab_type": "text"
      }
    },
    {
      "cell_type": "code",
      "execution_count": 12,
      "source": [
        "reshaped_df = reshaped_df.fillna(0)\r\n",
        "reshaped_df"
      ],
      "outputs": [
        {
          "output_type": "execute_result",
          "data": {
            "text/html": [
              "<div>\n",
              "<style scoped>\n",
              "    .dataframe tbody tr th:only-of-type {\n",
              "        vertical-align: middle;\n",
              "    }\n",
              "\n",
              "    .dataframe tbody tr th {\n",
              "        vertical-align: top;\n",
              "    }\n",
              "\n",
              "    .dataframe thead th {\n",
              "        text-align: right;\n",
              "    }\n",
              "</style>\n",
              "<table border=\"1\" class=\"dataframe\">\n",
              "  <thead>\n",
              "    <tr style=\"text-align: right;\">\n",
              "      <th>TAG</th>\n",
              "      <th>assembly</th>\n",
              "      <th>c</th>\n",
              "      <th>c#</th>\n",
              "      <th>c++</th>\n",
              "      <th>delphi</th>\n",
              "      <th>go</th>\n",
              "      <th>java</th>\n",
              "      <th>javascript</th>\n",
              "      <th>perl</th>\n",
              "      <th>php</th>\n",
              "      <th>python</th>\n",
              "      <th>r</th>\n",
              "      <th>ruby</th>\n",
              "      <th>swift</th>\n",
              "    </tr>\n",
              "    <tr>\n",
              "      <th>DATE</th>\n",
              "      <th></th>\n",
              "      <th></th>\n",
              "      <th></th>\n",
              "      <th></th>\n",
              "      <th></th>\n",
              "      <th></th>\n",
              "      <th></th>\n",
              "      <th></th>\n",
              "      <th></th>\n",
              "      <th></th>\n",
              "      <th></th>\n",
              "      <th></th>\n",
              "      <th></th>\n",
              "      <th></th>\n",
              "    </tr>\n",
              "  </thead>\n",
              "  <tbody>\n",
              "    <tr>\n",
              "      <th>2008-07-01</th>\n",
              "      <td>0.0</td>\n",
              "      <td>0.0</td>\n",
              "      <td>3.0</td>\n",
              "      <td>0.0</td>\n",
              "      <td>0.0</td>\n",
              "      <td>0.0</td>\n",
              "      <td>0.0</td>\n",
              "      <td>0.0</td>\n",
              "      <td>0.0</td>\n",
              "      <td>0.0</td>\n",
              "      <td>0.0</td>\n",
              "      <td>0.0</td>\n",
              "      <td>0.0</td>\n",
              "      <td>0.0</td>\n",
              "    </tr>\n",
              "    <tr>\n",
              "      <th>2008-08-01</th>\n",
              "      <td>8.0</td>\n",
              "      <td>84.0</td>\n",
              "      <td>507.0</td>\n",
              "      <td>164.0</td>\n",
              "      <td>14.0</td>\n",
              "      <td>0.0</td>\n",
              "      <td>222.0</td>\n",
              "      <td>163.0</td>\n",
              "      <td>28.0</td>\n",
              "      <td>160.0</td>\n",
              "      <td>124.0</td>\n",
              "      <td>0.0</td>\n",
              "      <td>71.0</td>\n",
              "      <td>0.0</td>\n",
              "    </tr>\n",
              "    <tr>\n",
              "      <th>2008-09-01</th>\n",
              "      <td>28.0</td>\n",
              "      <td>320.0</td>\n",
              "      <td>1648.0</td>\n",
              "      <td>754.0</td>\n",
              "      <td>105.0</td>\n",
              "      <td>0.0</td>\n",
              "      <td>1136.0</td>\n",
              "      <td>639.0</td>\n",
              "      <td>131.0</td>\n",
              "      <td>480.0</td>\n",
              "      <td>540.0</td>\n",
              "      <td>6.0</td>\n",
              "      <td>289.0</td>\n",
              "      <td>0.0</td>\n",
              "    </tr>\n",
              "    <tr>\n",
              "      <th>2008-10-01</th>\n",
              "      <td>15.0</td>\n",
              "      <td>303.0</td>\n",
              "      <td>1989.0</td>\n",
              "      <td>810.0</td>\n",
              "      <td>112.0</td>\n",
              "      <td>0.0</td>\n",
              "      <td>1154.0</td>\n",
              "      <td>726.0</td>\n",
              "      <td>127.0</td>\n",
              "      <td>615.0</td>\n",
              "      <td>510.0</td>\n",
              "      <td>0.0</td>\n",
              "      <td>249.0</td>\n",
              "      <td>0.0</td>\n",
              "    </tr>\n",
              "    <tr>\n",
              "      <th>2008-11-01</th>\n",
              "      <td>17.0</td>\n",
              "      <td>259.0</td>\n",
              "      <td>1733.0</td>\n",
              "      <td>734.0</td>\n",
              "      <td>141.0</td>\n",
              "      <td>0.0</td>\n",
              "      <td>958.0</td>\n",
              "      <td>579.0</td>\n",
              "      <td>97.0</td>\n",
              "      <td>503.0</td>\n",
              "      <td>452.0</td>\n",
              "      <td>1.0</td>\n",
              "      <td>159.0</td>\n",
              "      <td>0.0</td>\n",
              "    </tr>\n",
              "    <tr>\n",
              "      <th>...</th>\n",
              "      <td>...</td>\n",
              "      <td>...</td>\n",
              "      <td>...</td>\n",
              "      <td>...</td>\n",
              "      <td>...</td>\n",
              "      <td>...</td>\n",
              "      <td>...</td>\n",
              "      <td>...</td>\n",
              "      <td>...</td>\n",
              "      <td>...</td>\n",
              "      <td>...</td>\n",
              "      <td>...</td>\n",
              "      <td>...</td>\n",
              "      <td>...</td>\n",
              "    </tr>\n",
              "    <tr>\n",
              "      <th>2021-04-01</th>\n",
              "      <td>344.0</td>\n",
              "      <td>2453.0</td>\n",
              "      <td>6770.0</td>\n",
              "      <td>4346.0</td>\n",
              "      <td>186.0</td>\n",
              "      <td>683.0</td>\n",
              "      <td>9526.0</td>\n",
              "      <td>18684.0</td>\n",
              "      <td>143.0</td>\n",
              "      <td>5120.0</td>\n",
              "      <td>26554.0</td>\n",
              "      <td>5615.0</td>\n",
              "      <td>605.0</td>\n",
              "      <td>2532.0</td>\n",
              "    </tr>\n",
              "    <tr>\n",
              "      <th>2021-05-01</th>\n",
              "      <td>326.0</td>\n",
              "      <td>2260.0</td>\n",
              "      <td>6573.0</td>\n",
              "      <td>4601.0</td>\n",
              "      <td>179.0</td>\n",
              "      <td>701.0</td>\n",
              "      <td>9717.0</td>\n",
              "      <td>18482.0</td>\n",
              "      <td>122.0</td>\n",
              "      <td>5096.0</td>\n",
              "      <td>26125.0</td>\n",
              "      <td>5403.0</td>\n",
              "      <td>446.0</td>\n",
              "      <td>2213.0</td>\n",
              "    </tr>\n",
              "    <tr>\n",
              "      <th>2021-06-01</th>\n",
              "      <td>281.0</td>\n",
              "      <td>2011.0</td>\n",
              "      <td>6451.0</td>\n",
              "      <td>4192.0</td>\n",
              "      <td>133.0</td>\n",
              "      <td>649.0</td>\n",
              "      <td>9259.0</td>\n",
              "      <td>17730.0</td>\n",
              "      <td>157.0</td>\n",
              "      <td>4900.0</td>\n",
              "      <td>24628.0</td>\n",
              "      <td>4956.0</td>\n",
              "      <td>470.0</td>\n",
              "      <td>2128.0</td>\n",
              "    </tr>\n",
              "    <tr>\n",
              "      <th>2021-07-01</th>\n",
              "      <td>200.0</td>\n",
              "      <td>1729.0</td>\n",
              "      <td>5974.0</td>\n",
              "      <td>3816.0</td>\n",
              "      <td>148.0</td>\n",
              "      <td>652.0</td>\n",
              "      <td>8408.0</td>\n",
              "      <td>17498.0</td>\n",
              "      <td>140.0</td>\n",
              "      <td>4665.0</td>\n",
              "      <td>24277.0</td>\n",
              "      <td>4687.0</td>\n",
              "      <td>501.0</td>\n",
              "      <td>2282.0</td>\n",
              "    </tr>\n",
              "    <tr>\n",
              "      <th>2021-08-01</th>\n",
              "      <td>177.0</td>\n",
              "      <td>1699.0</td>\n",
              "      <td>6117.0</td>\n",
              "      <td>3673.0</td>\n",
              "      <td>141.0</td>\n",
              "      <td>833.0</td>\n",
              "      <td>8351.0</td>\n",
              "      <td>17717.0</td>\n",
              "      <td>125.0</td>\n",
              "      <td>5007.0</td>\n",
              "      <td>24016.0</td>\n",
              "      <td>4664.0</td>\n",
              "      <td>514.0</td>\n",
              "      <td>2273.0</td>\n",
              "    </tr>\n",
              "  </tbody>\n",
              "</table>\n",
              "<p>158 rows × 14 columns</p>\n",
              "</div>"
            ],
            "text/plain": [
              "TAG         assembly       c      c#     c++  delphi     go    java  \\\n",
              "DATE                                                                  \n",
              "2008-07-01       0.0     0.0     3.0     0.0     0.0    0.0     0.0   \n",
              "2008-08-01       8.0    84.0   507.0   164.0    14.0    0.0   222.0   \n",
              "2008-09-01      28.0   320.0  1648.0   754.0   105.0    0.0  1136.0   \n",
              "2008-10-01      15.0   303.0  1989.0   810.0   112.0    0.0  1154.0   \n",
              "2008-11-01      17.0   259.0  1733.0   734.0   141.0    0.0   958.0   \n",
              "...              ...     ...     ...     ...     ...    ...     ...   \n",
              "2021-04-01     344.0  2453.0  6770.0  4346.0   186.0  683.0  9526.0   \n",
              "2021-05-01     326.0  2260.0  6573.0  4601.0   179.0  701.0  9717.0   \n",
              "2021-06-01     281.0  2011.0  6451.0  4192.0   133.0  649.0  9259.0   \n",
              "2021-07-01     200.0  1729.0  5974.0  3816.0   148.0  652.0  8408.0   \n",
              "2021-08-01     177.0  1699.0  6117.0  3673.0   141.0  833.0  8351.0   \n",
              "\n",
              "TAG         javascript   perl     php   python       r   ruby   swift  \n",
              "DATE                                                                   \n",
              "2008-07-01         0.0    0.0     0.0      0.0     0.0    0.0     0.0  \n",
              "2008-08-01       163.0   28.0   160.0    124.0     0.0   71.0     0.0  \n",
              "2008-09-01       639.0  131.0   480.0    540.0     6.0  289.0     0.0  \n",
              "2008-10-01       726.0  127.0   615.0    510.0     0.0  249.0     0.0  \n",
              "2008-11-01       579.0   97.0   503.0    452.0     1.0  159.0     0.0  \n",
              "...                ...    ...     ...      ...     ...    ...     ...  \n",
              "2021-04-01     18684.0  143.0  5120.0  26554.0  5615.0  605.0  2532.0  \n",
              "2021-05-01     18482.0  122.0  5096.0  26125.0  5403.0  446.0  2213.0  \n",
              "2021-06-01     17730.0  157.0  4900.0  24628.0  4956.0  470.0  2128.0  \n",
              "2021-07-01     17498.0  140.0  4665.0  24277.0  4687.0  501.0  2282.0  \n",
              "2021-08-01     17717.0  125.0  5007.0  24016.0  4664.0  514.0  2273.0  \n",
              "\n",
              "[158 rows x 14 columns]"
            ]
          },
          "metadata": {},
          "execution_count": 12
        }
      ],
      "metadata": {
        "id": "v-u4FcLXGxu9",
        "colab_type": "code",
        "colab": {}
      }
    },
    {
      "cell_type": "code",
      "execution_count": 13,
      "source": [
        "reshaped_df.isna().values.any()"
      ],
      "outputs": [
        {
          "output_type": "execute_result",
          "data": {
            "text/plain": [
              "False"
            ]
          },
          "metadata": {},
          "execution_count": 13
        }
      ],
      "metadata": {
        "id": "NUyBcaMMGxu-",
        "colab_type": "code",
        "colab": {}
      }
    },
    {
      "cell_type": "code",
      "execution_count": null,
      "source": [],
      "outputs": [],
      "metadata": {
        "id": "LnUIOL3LGxvA",
        "colab_type": "code",
        "colab": {}
      }
    },
    {
      "cell_type": "markdown",
      "source": [
        "**Challenge**: Count the number of entries per programming language. Why might the number of entries be different? "
      ],
      "metadata": {
        "id": "BoDCuRU0GxvC",
        "colab_type": "text"
      }
    },
    {
      "cell_type": "code",
      "execution_count": null,
      "source": [],
      "outputs": [],
      "metadata": {
        "id": "-peEFgaMGxvE",
        "colab_type": "code",
        "colab": {}
      }
    },
    {
      "cell_type": "code",
      "execution_count": null,
      "source": [],
      "outputs": [],
      "metadata": {
        "id": "01f2BCF8GxvG",
        "colab_type": "code",
        "colab": {}
      }
    },
    {
      "cell_type": "code",
      "execution_count": null,
      "source": [],
      "outputs": [],
      "metadata": {
        "id": "KooRRxAdGxvI",
        "colab_type": "code",
        "colab": {}
      }
    },
    {
      "cell_type": "markdown",
      "source": [
        "## Data Visualisaton with with Matplotlib\n"
      ],
      "metadata": {
        "id": "8xU7l_f4GxvK",
        "colab_type": "text"
      }
    },
    {
      "cell_type": "markdown",
      "source": [
        "**Challenge**: Use the [matplotlib documentation](https://matplotlib.org/3.2.1/api/_as_gen/matplotlib.pyplot.plot.html#matplotlib.pyplot.plot) to plot a single programming language (e.g., java) on a chart."
      ],
      "metadata": {
        "id": "njnNXTlhGxvK",
        "colab_type": "text"
      }
    },
    {
      "cell_type": "code",
      "execution_count": 33,
      "source": [
        "roll_df = reshaped_df.rolling(window=40).mean()\r\n",
        "\r\n",
        "for col in roll_df.columns:\r\n",
        "    plt.plot(roll_df.index, roll_df[col], linewidth=3, label=roll_df[col].name)\r\n",
        "# plt.plot(roll_df.index, roll_df['c'])\r\n",
        "# plt.plot(roll_df.index, roll_df['java'])\r\n",
        "# plt.plot(roll_df.index, roll_df['c++'])\r\n",
        "plt.legend(fontsize = 6)\r\n",
        "plt.xlabel('YEAR', fontsize = 15)\r\n",
        "plt.ylabel('POSTS', fontsize = 15)\r\n",
        "plt.xticks(fontsize = 14)\r\n",
        "plt.yticks(fontsize = 14)\r\n",
        "plt.ylim(0,35000)\r\n",
        "plt.figure(figsize = (16,10))\r\n",
        "plt.show()"
      ],
      "outputs": [
        {
          "output_type": "display_data",
          "data": {
            "image/png": "[encoded data removed]",
            "text/plain": [
              "<Figure size 432x288 with 1 Axes>"
            ]
          },
          "metadata": {
            "needs_background": "light"
          }
        },
        {
          "output_type": "display_data",
          "data": {
            "text/plain": [
              "<Figure size 1152x720 with 0 Axes>"
            ]
          },
          "metadata": {}
        }
      ],
      "metadata": {
        "id": "S0OS8T8iGxvL",
        "colab_type": "code",
        "colab": {}
      }
    },
    {
      "cell_type": "code",
      "execution_count": null,
      "source": [],
      "outputs": [],
      "metadata": {
        "id": "EU6AV1l9GxvM",
        "colab_type": "code",
        "colab": {}
      }
    },
    {
      "cell_type": "code",
      "execution_count": null,
      "source": [],
      "outputs": [],
      "metadata": {
        "id": "_Qzzg6b_GxvO",
        "colab_type": "code",
        "colab": {}
      }
    },
    {
      "cell_type": "markdown",
      "source": [
        "**Challenge**: Show two line (e.g. for Java and Python) on the same chart."
      ],
      "metadata": {
        "id": "Sm2DL5tZGxvQ",
        "colab_type": "text"
      }
    },
    {
      "cell_type": "code",
      "execution_count": null,
      "source": [],
      "outputs": [],
      "metadata": {
        "id": "T-0vClQSGxvQ",
        "colab_type": "code",
        "colab": {}
      }
    },
    {
      "cell_type": "markdown",
      "source": [
        "# Smoothing out Time Series Data\n",
        "\n",
        "Time series data can be quite noisy, with a lot of up and down spikes. To better see a trend we can plot an average of, say 6 or 12 observations. This is called the rolling mean. We calculate the average in a window of time and move it forward by one overservation. Pandas has two handy methods already built in to work this out: [rolling()](https://pandas.pydata.org/pandas-docs/stable/reference/api/pandas.DataFrame.rolling.html) and [mean()](https://pandas.pydata.org/pandas-docs/stable/reference/api/pandas.core.window.rolling.Rolling.mean.html). "
      ],
      "metadata": {
        "id": "3jSjfPy7GxvY",
        "colab_type": "text"
      }
    },
    {
      "cell_type": "code",
      "execution_count": null,
      "source": [],
      "outputs": [],
      "metadata": {
        "id": "s3WYd3OgGxvc",
        "colab_type": "code",
        "colab": {}
      }
    },
    {
      "cell_type": "code",
      "execution_count": null,
      "source": [],
      "outputs": [],
      "metadata": {
        "id": "WMJOX8Y2Gxvd",
        "colab_type": "code",
        "colab": {}
      }
    },
    {
      "cell_type": "code",
      "execution_count": null,
      "source": [],
      "outputs": [],
      "metadata": {
        "id": "fAvvarA7Gxvf",
        "colab_type": "code",
        "colab": {}
      }
    },
    {
      "cell_type": "code",
      "execution_count": null,
      "source": [],
      "outputs": [],
      "metadata": {
        "id": "Gm0Ww0S4Gxvg",
        "colab_type": "code",
        "colab": {}
      }
    }
  ]
}